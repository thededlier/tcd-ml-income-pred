{
 "cells": [
  {
   "cell_type": "code",
   "execution_count": 12,
   "metadata": {},
   "outputs": [],
   "source": [
    "import numpy as np\n",
    "import pandas as pd\n",
    "import seaborn as sns\n",
    "import matplotlib.pyplot as plt  \n",
    "from scipy.stats import norm\n",
    "from scipy import stats\n",
    "from scipy.stats import skew\n",
    "from scipy.stats.stats import pearsonr\n",
    "\n",
    "import os"
   ]
  },
  {
   "cell_type": "code",
   "execution_count": 13,
   "metadata": {},
   "outputs": [],
   "source": [
    "# Load data\n",
    "train = pd.read_csv('../input/tcdml1920-income-ind/tcd ml 2019-20 income prediction training (with labels).csv')\n",
    "test  = pd.read_csv('../input/tcdml1920-income-ind/tcd ml 2019-20 income prediction test (without labels).csv')"
   ]
  },
  {
   "cell_type": "code",
   "execution_count": 14,
   "metadata": {},
   "outputs": [
    {
     "data": {
      "image/png": "[encoded data removed]",
      "text/plain": [
       "<Figure size 432x288 with 2 Axes>"
      ]
     },
     "metadata": {
      "needs_background": "light"
     },
     "output_type": "display_data"
    }
   ],
   "source": [
    "corrmat = train.corr()\n",
    "sns.heatmap(corrmat);"
   ]
  },
  {
   "cell_type": "code",
   "execution_count": 15,
   "metadata": {},
   "outputs": [
    {
     "data": {
      "text/html": [
       "<div>\n",
       "<style scoped>\n",
       "    .dataframe tbody tr th:only-of-type {\n",
       "        vertical-align: middle;\n",
       "    }\n",
       "\n",
       "    .dataframe tbody tr th {\n",
       "        vertical-align: top;\n",
       "    }\n",
       "\n",
       "    .dataframe thead th {\n",
       "        text-align: right;\n",
       "    }\n",
       "</style>\n",
       "<table border=\"1\" class=\"dataframe\">\n",
       "  <thead>\n",
       "    <tr style=\"text-align: right;\">\n",
       "      <th></th>\n",
       "      <th>Total</th>\n",
       "      <th>Percent</th>\n",
       "    </tr>\n",
       "  </thead>\n",
       "  <tbody>\n",
       "    <tr>\n",
       "      <th>Gender</th>\n",
       "      <td>7432</td>\n",
       "      <td>6.64</td>\n",
       "    </tr>\n",
       "    <tr>\n",
       "      <th>University Degree</th>\n",
       "      <td>7370</td>\n",
       "      <td>6.58</td>\n",
       "    </tr>\n",
       "    <tr>\n",
       "      <th>Hair Color</th>\n",
       "      <td>7242</td>\n",
       "      <td>6.47</td>\n",
       "    </tr>\n",
       "    <tr>\n",
       "      <th>Age</th>\n",
       "      <td>494</td>\n",
       "      <td>0.44</td>\n",
       "    </tr>\n",
       "    <tr>\n",
       "      <th>Year of Record</th>\n",
       "      <td>441</td>\n",
       "      <td>0.39</td>\n",
       "    </tr>\n",
       "    <tr>\n",
       "      <th>Profession</th>\n",
       "      <td>322</td>\n",
       "      <td>0.29</td>\n",
       "    </tr>\n",
       "  </tbody>\n",
       "</table>\n",
       "</div>"
      ],
      "text/plain": [
       "                   Total  Percent\n",
       "Gender              7432     6.64\n",
       "University Degree   7370     6.58\n",
       "Hair Color          7242     6.47\n",
       "Age                  494     0.44\n",
       "Year of Record       441     0.39\n",
       "Profession           322     0.29"
      ]
     },
     "execution_count": 15,
     "metadata": {},
     "output_type": "execute_result"
    }
   ],
   "source": [
    "def missing_percentage(df):\n",
    "    \"\"\"This function takes a DataFrame(df) as input and returns two columns, total missing values and total missing values percentage\"\"\"\n",
    "    ## the two following line may seem complicated but its actually very simple. \n",
    "    total = df.isnull().sum().sort_values(ascending = False)[df.isnull().sum().sort_values(ascending = False) != 0]\n",
    "    percent = round(df.isnull().sum().sort_values(ascending = False)/len(df)*100,2)[round(df.isnull().sum().sort_values(ascending = False)/len(df)*100,2) != 0]\n",
    "    return pd.concat([total, percent], axis=1, keys=['Total','Percent'])\n",
    "\n",
    "missing_percentage(train)"
   ]
  },
  {
   "cell_type": "code",
   "execution_count": 57,
   "metadata": {},
   "outputs": [],
   "source": [
    "all_data = pd.concat((train.loc[:, 'Year of Record': 'Body Height [cm]'],\n",
    "                      test.loc[:, 'Year of Record': 'Body Height [cm]']))"
   ]
  },
  {
   "cell_type": "code",
   "execution_count": 58,
   "metadata": {},
   "outputs": [],
   "source": [
    "all_data.rename(columns={ 'Body Height [cm]': 'Height' }, inplace=True)\n",
    "train.rename(columns={ 'Body Height [cm]': 'Height' }, inplace=True)\n",
    "\n",
    "all_data = all_data.replace({ 'Gender': { '0' : np.nan, 'unknown': np.nan } })\n",
    "all_data = all_data.replace({ 'University Degree': { '0' : 'No', '#NaN': np.nan } })\n",
    "all_data = all_data.replace({ 'Hair Color': { '0': np.nan, 'Unknown': np.nan } })"
   ]
  },
  {
   "cell_type": "code",
   "execution_count": 59,
   "metadata": {},
   "outputs": [
    {
     "name": "stderr",
     "output_type": "stream",
     "text": [
      "C:\\ProgramData\\Anaconda3\\lib\\site-packages\\ipykernel_launcher.py:1: RuntimeWarning: invalid value encountered in log1p\n",
      "  \"\"\"Entry point for launching an IPython kernel.\n"
     ]
    }
   ],
   "source": [
    "log_income = np.log1p(train['Income in EUR'])\n",
    "log_income = log_income.fillna(0)\n",
    "y = log_income\n",
    "\n",
    "all_data = all_data.fillna(all_data.median())"
   ]
  },
  {
   "cell_type": "code",
   "execution_count": 60,
   "metadata": {},
   "outputs": [],
   "source": [
    "\n",
    "categorical_feats = train.select_dtypes(include = [\"object\"]).columns\n",
    "\n",
    "for cat in categorical_feats:\n",
    "    all_data[cat] = all_data[cat].fillna(all_data[cat].value_counts().index[0])"
   ]
  },
  {
   "cell_type": "code",
   "execution_count": 61,
   "metadata": {},
   "outputs": [],
   "source": [
    "from sklearn import preprocessing \n",
    "from sklearn.preprocessing import StandardScaler\n",
    "\n",
    "numeric_feats = all_data.dtypes[all_data.dtypes != \"object\"].index\n",
    "\n",
    "stdSc = StandardScaler()\n",
    "all_data.loc[:, numeric_feats] = stdSc.fit_transform(all_data.loc[:, numeric_feats])"
   ]
  },
  {
   "cell_type": "code",
   "execution_count": 62,
   "metadata": {},
   "outputs": [
    {
     "data": {
      "text/html": [
       "<div>\n",
       "<style scoped>\n",
       "    .dataframe tbody tr th:only-of-type {\n",
       "        vertical-align: middle;\n",
       "    }\n",
       "\n",
       "    .dataframe tbody tr th {\n",
       "        vertical-align: top;\n",
       "    }\n",
       "\n",
       "    .dataframe thead th {\n",
       "        text-align: right;\n",
       "    }\n",
       "</style>\n",
       "<table border=\"1\" class=\"dataframe\">\n",
       "  <thead>\n",
       "    <tr style=\"text-align: right;\">\n",
       "      <th></th>\n",
       "      <th>Year of Record</th>\n",
       "      <th>Gender</th>\n",
       "      <th>Age</th>\n",
       "      <th>Country</th>\n",
       "      <th>Size of City</th>\n",
       "      <th>Profession</th>\n",
       "      <th>University Degree</th>\n",
       "      <th>Wears Glasses</th>\n",
       "      <th>Hair Color</th>\n",
       "      <th>Height</th>\n",
       "    </tr>\n",
       "  </thead>\n",
       "  <tbody>\n",
       "    <tr>\n",
       "      <th>0</th>\n",
       "      <td>-0.212657</td>\n",
       "      <td>male</td>\n",
       "      <td>0.232257</td>\n",
       "      <td>Belarus</td>\n",
       "      <td>0.188299</td>\n",
       "      <td>steel workers</td>\n",
       "      <td>Bachelor</td>\n",
       "      <td>-1.001226</td>\n",
       "      <td>Blond</td>\n",
       "      <td>0.895147</td>\n",
       "    </tr>\n",
       "    <tr>\n",
       "      <th>1</th>\n",
       "      <td>-0.299233</td>\n",
       "      <td>other</td>\n",
       "      <td>0.232257</td>\n",
       "      <td>Singapore</td>\n",
       "      <td>0.356937</td>\n",
       "      <td>safe event coordinator</td>\n",
       "      <td>Master</td>\n",
       "      <td>-1.001226</td>\n",
       "      <td>Black</td>\n",
       "      <td>0.543422</td>\n",
       "    </tr>\n",
       "    <tr>\n",
       "      <th>2</th>\n",
       "      <td>1.605453</td>\n",
       "      <td>other</td>\n",
       "      <td>-0.582018</td>\n",
       "      <td>Norway</td>\n",
       "      <td>0.215242</td>\n",
       "      <td>receivables/payables analyst</td>\n",
       "      <td>PhD</td>\n",
       "      <td>0.998775</td>\n",
       "      <td>Brown</td>\n",
       "      <td>-0.260520</td>\n",
       "    </tr>\n",
       "    <tr>\n",
       "      <th>3</th>\n",
       "      <td>0.566533</td>\n",
       "      <td>other</td>\n",
       "      <td>-0.268836</td>\n",
       "      <td>Cuba</td>\n",
       "      <td>-0.038063</td>\n",
       "      <td>fleet assistant</td>\n",
       "      <td>No</td>\n",
       "      <td>0.998775</td>\n",
       "      <td>Black</td>\n",
       "      <td>-0.210274</td>\n",
       "    </tr>\n",
       "    <tr>\n",
       "      <th>4</th>\n",
       "      <td>0.912840</td>\n",
       "      <td>female</td>\n",
       "      <td>0.545439</td>\n",
       "      <td>United Arab Emirates</td>\n",
       "      <td>-0.342575</td>\n",
       "      <td>lead trainer</td>\n",
       "      <td>No</td>\n",
       "      <td>-1.001226</td>\n",
       "      <td>Blond</td>\n",
       "      <td>0.643915</td>\n",
       "    </tr>\n",
       "  </tbody>\n",
       "</table>\n",
       "</div>"
      ],
      "text/plain": [
       "   Year of Record  Gender       Age               Country  Size of City  \\\n",
       "0       -0.212657    male  0.232257               Belarus      0.188299   \n",
       "1       -0.299233   other  0.232257             Singapore      0.356937   \n",
       "2        1.605453   other -0.582018                Norway      0.215242   \n",
       "3        0.566533   other -0.268836                  Cuba     -0.038063   \n",
       "4        0.912840  female  0.545439  United Arab Emirates     -0.342575   \n",
       "\n",
       "                     Profession University Degree  Wears Glasses Hair Color  \\\n",
       "0                 steel workers          Bachelor      -1.001226      Blond   \n",
       "1        safe event coordinator            Master      -1.001226      Black   \n",
       "2  receivables/payables analyst               PhD       0.998775      Brown   \n",
       "3               fleet assistant                No       0.998775      Black   \n",
       "4                  lead trainer                No      -1.001226      Blond   \n",
       "\n",
       "     Height  \n",
       "0  0.895147  \n",
       "1  0.543422  \n",
       "2 -0.260520  \n",
       "3 -0.210274  \n",
       "4  0.643915  "
      ]
     },
     "execution_count": 62,
     "metadata": {},
     "output_type": "execute_result"
    }
   ],
   "source": [
    "all_data.head()"
   ]
  },
  {
   "cell_type": "code",
   "execution_count": 65,
   "metadata": {},
   "outputs": [],
   "source": [
    "from category_encoders import TargetEncoder\n",
    "\n",
    "target_enc = TargetEncoder(cols=['Profession']).fit(train.loc[:, 'Year of Record':'Height'], y = train['Income in EUR'])\n",
    "all_data = target_enc.transform(all_data.reset_index(drop=True))\n",
    "\n",
    "le = preprocessing.LabelEncoder()\n",
    "all_data['Country'] = le.fit_transform(all_data['Country'])"
   ]
  },
  {
   "cell_type": "code",
   "execution_count": 66,
   "metadata": {},
   "outputs": [],
   "source": [
    "all_data = pd.get_dummies(all_data, columns = ['University Degree', 'Hair Color', 'Gender'])"
   ]
  },
  {
   "cell_type": "code",
   "execution_count": 67,
   "metadata": {},
   "outputs": [],
   "source": [
    "X_train = all_data[:train.shape[0]]\n",
    "X_test = all_data[train.shape[0]:]\n",
    "y = log_income"
   ]
  },
  {
   "cell_type": "code",
   "execution_count": 72,
   "metadata": {},
   "outputs": [
    {
     "data": {
      "text/plain": [
       "array([109213.80778058])"
      ]
     },
     "execution_count": 72,
     "metadata": {},
     "output_type": "execute_result"
    }
   ],
   "source": [
    "all_data['Profession'].unique()"
   ]
  },
  {
   "cell_type": "code",
   "execution_count": 46,
   "metadata": {},
   "outputs": [
    {
     "data": {
      "text/plain": [
       "RandomForestRegressor(bootstrap=True, criterion='mse', max_depth=3,\n",
       "                      max_features='auto', max_leaf_nodes=None,\n",
       "                      min_impurity_decrease=0.0, min_impurity_split=None,\n",
       "                      min_samples_leaf=1, min_samples_split=2,\n",
       "                      min_weight_fraction_leaf=0.0, n_estimators=200,\n",
       "                      n_jobs=None, oob_score=False, random_state=0, verbose=0,\n",
       "                      warm_start=False)"
      ]
     },
     "execution_count": 46,
     "metadata": {},
     "output_type": "execute_result"
    }
   ],
   "source": [
    "from sklearn.ensemble import RandomForestRegressor\n",
    "\n",
    "regr = RandomForestRegressor(max_depth=3, random_state=0, n_estimators=200)\n",
    "\n",
    "regr.fit(X_train, train['Income in EUR'])"
   ]
  },
  {
   "cell_type": "code",
   "execution_count": 47,
   "metadata": {},
   "outputs": [
    {
     "data": {
      "text/plain": [
       "142975.11738108727"
      ]
     },
     "execution_count": 47,
     "metadata": {},
     "output_type": "execute_result"
    }
   ],
   "source": [
    "from sklearn.model_selection import cross_val_score\n",
    "\n",
    "def rmse_cv(model):\n",
    "    rmse= np.sqrt(-cross_val_score(model, X_train, train['Income in EUR'], scoring=\"neg_mean_squared_error\", cv = 5))\n",
    "    return(rmse)\n",
    "\n",
    "rmse_cv(regr).mean()"
   ]
  },
  {
   "cell_type": "code",
   "execution_count": null,
   "metadata": {},
   "outputs": [],
   "source": []
  }
 ],
 "metadata": {
  "kernelspec": {
   "display_name": "Python 3",
   "language": "python",
   "name": "python3"
  },
  "language_info": {
   "codemirror_mode": {
    "name": "ipython",
    "version": 3
   },
   "file_extension": ".py",
   "mimetype": "text/x-python",
   "name": "python",
   "nbconvert_exporter": "python",
   "pygments_lexer": "ipython3",
   "version": "3.7.3"
  }
 },
 "nbformat": 4,
 "nbformat_minor": 2
}
